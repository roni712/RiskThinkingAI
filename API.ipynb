{
 "cells": [
  {
   "cell_type": "code",
   "execution_count": 5,
   "id": "0a7ff19b-ddec-46fc-98ad-4dd5956bf9a6",
   "metadata": {
    "tags": []
   },
   "outputs": [
    {
     "name": "stdout",
     "output_type": "stream",
     "text": [
      "Collecting flask\n",
      "  Downloading Flask-2.3.2-py3-none-any.whl (96 kB)\n",
      "\u001b[2K     \u001b[90m━━━━━━━━━━━━━━━━━━━━━━━━━━━━━━━━━━━━━━━━\u001b[0m \u001b[32m96.9/96.9 kB\u001b[0m \u001b[31m2.8 MB/s\u001b[0m eta \u001b[36m0:00:00\u001b[0ma \u001b[36m0:00:01\u001b[0m\n",
      "\u001b[?25hCollecting Werkzeug>=2.3.3 (from flask)\n",
      "  Downloading Werkzeug-2.3.3-py3-none-any.whl (242 kB)\n",
      "\u001b[2K     \u001b[90m━━━━━━━━━━━━━━━━━━━━━━━━━━━━━━━━━━━━━━━\u001b[0m \u001b[32m242.3/242.3 kB\u001b[0m \u001b[31m3.0 MB/s\u001b[0m eta \u001b[36m0:00:00\u001b[0ma \u001b[36m0:00:01\u001b[0m\n",
      "\u001b[?25hRequirement already satisfied: Jinja2>=3.1.2 in /opt/conda/lib/python3.10/site-packages (from flask) (3.1.2)\n",
      "Collecting itsdangerous>=2.1.2 (from flask)\n",
      "  Downloading itsdangerous-2.1.2-py3-none-any.whl (15 kB)\n",
      "Requirement already satisfied: click>=8.1.3 in /opt/conda/lib/python3.10/site-packages (from flask) (8.1.3)\n",
      "Requirement already satisfied: blinker>=1.6.2 in /opt/conda/lib/python3.10/site-packages (from flask) (1.6.2)\n",
      "Requirement already satisfied: MarkupSafe>=2.0 in /opt/conda/lib/python3.10/site-packages (from Jinja2>=3.1.2->flask) (2.1.2)\n",
      "Installing collected packages: Werkzeug, itsdangerous, flask\n",
      "Successfully installed Werkzeug-2.3.3 flask-2.3.2 itsdangerous-2.1.2\n"
     ]
    }
   ],
   "source": [
    "!pip install flask"
   ]
  },
  {
   "cell_type": "code",
   "execution_count": 12,
   "id": "d1484813-2859-43d5-b37f-7832dbe63448",
   "metadata": {
    "tags": []
   },
   "outputs": [
    {
     "name": "stdout",
     "output_type": "stream",
     "text": [
      "Loaded Model!\n"
     ]
    }
   ],
   "source": [
    "from flask import Flask, request, jsonify\n",
    "from pyspark.sql import SparkSession\n",
    "import os\n",
    "\n",
    "from pyspark.ml.feature import VectorAssembler\n",
    "from pyspark.ml.regression import RandomForestRegressionModel\n",
    "\n",
    "# Create a new SparkSession\n",
    "spark = SparkSession.builder.appName(\"FlaskApp\").getOrCreate()\n",
    "model = RandomForestRegressionModel.load(\"randomForestpredictionmodel\")\n",
    "print(\"Loaded Model!\")\n",
    "\n",
    "# Prediction Function\n",
    "def predict_volume(model, input_data):\n",
    "    # Assemble the features into a vector column\n",
    "    assembler = VectorAssembler(inputCols=['vol_moving_avg', 'adj_close_rolling_med'], outputCol=\"features\")\n",
    "    input_data = assembler.transform(input_data)\n",
    "\n",
    "    # Make predictions on the new data\n",
    "    predictions = model.transform(input_data)\n",
    "\n",
    "    # Select relevant columns and return the DataFrame\n",
    "    output = predictions.select('prediction')\n",
    "    return output\n",
    "\n",
    "app = Flask(__name__)\n",
    "\n",
    "@app.route('/')\n",
    "@app.route('/health')\n",
    "def health():\n",
    "    return jsonify({\"message\":'App is healthy!'})\n",
    "\n",
    "@app.route('/predict', methods=['GET'])\n",
    "def predict():\n",
    "    global model\n",
    "    # Get the values of the 'vol_moving_avg' and 'adj_close_rolling_med' query parameters\n",
    "    vol_moving_avg = float(request.args.get('vol_moving_avg'))\n",
    "    adj_close_rolling_med = float(request.args.get('adj_close_rolling_med'))\n",
    "\n",
    "    input_data = spark.createDataFrame([(vol_moving_avg, adj_close_rolling_med)], ['vol_moving_avg', 'adj_close_rolling_med'])\n",
    "\n",
    "    predictions = predict_volume(model, input_data)\n",
    "    # Convert the predictions to a JSON response\n",
    "    output = {\n",
    "        \"input\": {\n",
    "            \"vol_moving_avg\": vol_moving_avg, \n",
    "            \"adj_close_rolling_med\": adj_close_rolling_med\n",
    "        },\n",
    "        'predictions': predictions.select('prediction').collect()\n",
    "    }\n",
    "    return jsonify(output)\n"
   ]
  },
  {
   "cell_type": "code",
   "execution_count": null,
   "id": "9e44f238-1b56-4b7f-b04d-616f6f7b7b64",
   "metadata": {
    "tags": []
   },
   "outputs": [
    {
     "name": "stdout",
     "output_type": "stream",
     "text": [
      " * Serving Flask app '__main__'\n",
      " * Debug mode: off\n"
     ]
    },
    {
     "name": "stderr",
     "output_type": "stream",
     "text": [
      "WARNING: This is a development server. Do not use it in a production deployment. Use a production WSGI server instead.\n",
      " * Running on all addresses (0.0.0.0)\n",
      " * Running on http://127.0.0.1:8000\n",
      " * Running on http://172.17.0.2:8000\n",
      "Press CTRL+C to quit\n"
     ]
    }
   ],
   "source": [
    "app.run(host=\"0.0.0.0\",port=8000)"
   ]
  },
  {
   "cell_type": "code",
   "execution_count": null,
   "id": "c990302c-e48e-4056-b9b5-4650395b7450",
   "metadata": {},
   "outputs": [],
   "source": []
  }
 ],
 "metadata": {
  "kernelspec": {
   "display_name": "Python 3 (ipykernel)",
   "language": "python",
   "name": "python3"
  },
  "language_info": {
   "codemirror_mode": {
    "name": "ipython",
    "version": 3
   },
   "file_extension": ".py",
   "mimetype": "text/x-python",
   "name": "python",
   "nbconvert_exporter": "python",
   "pygments_lexer": "ipython3",
   "version": "3.10.10"
  }
 },
 "nbformat": 4,
 "nbformat_minor": 5
}
