{
 "cells": [
  {
   "cell_type": "code",
   "execution_count": 23,
   "id": "0a7ff19b-ddec-46fc-98ad-4dd5956bf9a6",
   "metadata": {
    "tags": []
   },
   "outputs": [
    {
     "name": "stdout",
     "output_type": "stream",
     "text": [
      "Requirement already satisfied: flask in /usr/local/python/3.10.4/lib/python3.10/site-packages (2.3.2)\n",
      "Requirement already satisfied: Werkzeug>=2.3.3 in /usr/local/python/3.10.4/lib/python3.10/site-packages (from flask) (2.3.3)\n",
      "Requirement already satisfied: Jinja2>=3.1.2 in /home/codespace/.local/lib/python3.10/site-packages (from flask) (3.1.2)\n",
      "Requirement already satisfied: itsdangerous>=2.1.2 in /usr/local/python/3.10.4/lib/python3.10/site-packages (from flask) (2.1.2)\n",
      "Requirement already satisfied: click>=8.1.3 in /usr/local/python/3.10.4/lib/python3.10/site-packages (from flask) (8.1.3)\n",
      "Requirement already satisfied: blinker>=1.6.2 in /usr/local/python/3.10.4/lib/python3.10/site-packages (from flask) (1.6.2)\n",
      "Requirement already satisfied: MarkupSafe>=2.0 in /home/codespace/.local/lib/python3.10/site-packages (from Jinja2>=3.1.2->flask) (2.1.2)\n",
      "\n",
      "\u001b[1m[\u001b[0m\u001b[34;49mnotice\u001b[0m\u001b[1;39;49m]\u001b[0m\u001b[39;49m A new release of pip is available: \u001b[0m\u001b[31;49m23.1.1\u001b[0m\u001b[39;49m -> \u001b[0m\u001b[32;49m23.1.2\u001b[0m\n",
      "\u001b[1m[\u001b[0m\u001b[34;49mnotice\u001b[0m\u001b[1;39;49m]\u001b[0m\u001b[39;49m To update, run: \u001b[0m\u001b[32;49mpython -m pip install --upgrade pip\u001b[0m\n",
      "Requirement already satisfied: pyspark in /usr/local/python/3.10.4/lib/python3.10/site-packages (3.4.0)\n",
      "Requirement already satisfied: py4j==0.10.9.7 in /usr/local/python/3.10.4/lib/python3.10/site-packages (from pyspark) (0.10.9.7)\n",
      "\n",
      "\u001b[1m[\u001b[0m\u001b[34;49mnotice\u001b[0m\u001b[1;39;49m]\u001b[0m\u001b[39;49m A new release of pip is available: \u001b[0m\u001b[31;49m23.1.1\u001b[0m\u001b[39;49m -> \u001b[0m\u001b[32;49m23.1.2\u001b[0m\n",
      "\u001b[1m[\u001b[0m\u001b[34;49mnotice\u001b[0m\u001b[1;39;49m]\u001b[0m\u001b[39;49m To update, run: \u001b[0m\u001b[32;49mpython -m pip install --upgrade pip\u001b[0m\n"
     ]
    }
   ],
   "source": [
    "!pip install flask\n",
    "!pip install pyspark"
   ]
  },
  {
   "cell_type": "code",
   "execution_count": 24,
   "id": "d1484813-2859-43d5-b37f-7832dbe63448",
   "metadata": {
    "tags": []
   },
   "outputs": [
    {
     "name": "stdout",
     "output_type": "stream",
     "text": [
      "Done creating Spark Session!\n",
      "Done loading Model!\n"
     ]
    }
   ],
   "source": [
    "from flask import Flask, request, jsonify\n",
    "from pyspark.sql import SparkSession\n",
    "import os\n",
    "\n",
    "from pyspark.ml.feature import VectorAssembler\n",
    "from pyspark.ml.regression import RandomForestRegressionModel\n",
    "\n",
    "# Create a new SparkSession\n",
    "spark = SparkSession.builder.appName(\"FlaskApp\").getOrCreate()\n",
    "print(\"Done creating Spark Session!\")\n",
    "model = None\n",
    "\n",
    "def loadModel(modelPath=None):\n",
    "    global model\n",
    "    path = \"savedModel/randomForestpredictionmodel/\"\n",
    "    if modelPath:\n",
    "        path = modelPath\n",
    "    model = RandomForestRegressionModel.load(path)\n",
    "    print(\"Done loading Model!\")\n",
    "\n",
    "# load model initially\n",
    "loadModel()\n",
    "\n",
    "# Prediction Function\n",
    "def predict_volume(input_data):\n",
    "    global model\n",
    "\n",
    "    print(os.curdir)\n",
    "    # Assemble the features into a vector column\n",
    "    assembler = VectorAssembler(inputCols=['vol_moving_avg', 'adj_close_rolling_med'], outputCol=\"features\")\n",
    "    input_data = assembler.transform(input_data)\n",
    "\n",
    "    # Make predictions on the new data\n",
    "    predictions = model.transform(input_data)\n",
    "\n",
    "    # Select relevant columns and return the DataFrame\n",
    "    output = predictions.select('prediction')\n",
    "    return output\n",
    "\n",
    "app = Flask(__name__)\n",
    "\n",
    "@app.route('/')\n",
    "@app.route('/health')\n",
    "def health():\n",
    "    return jsonify({\"message\":'App is healthy!'})\n",
    "\n",
    "@app.route('/predict', methods=['GET'])\n",
    "def predict():\n",
    "    # Get the values of the 'vol_moving_avg' and 'adj_close_rolling_med' query parameters\n",
    "    vol_moving_avg = float(request.args.get('vol_moving_avg'))\n",
    "    adj_close_rolling_med = float(request.args.get('adj_close_rolling_med'))\n",
    "\n",
    "    input_data = spark.createDataFrame([(vol_moving_avg, adj_close_rolling_med)], ['vol_moving_avg', 'adj_close_rolling_med'])\n",
    "\n",
    "    predictions = predict_volume(input_data)\n",
    "    # Convert the predictions to a JSON response\n",
    "    output = {'predictions': predictions.select('prediction').collect()}\n",
    "    return jsonify(output)\n",
    "\n",
    "@app.route('/loadNewModel')\n",
    "def loadModelApi():\n",
    "    request.args.post('modelPath')\n",
    "    loadModel()\n",
    "    return jsonify({\"message\":'App is healthy!'})"
   ]
  },
  {
   "cell_type": "code",
   "execution_count": 25,
   "id": "9e44f238-1b56-4b7f-b04d-616f6f7b7b64",
   "metadata": {
    "tags": []
   },
   "outputs": [
    {
     "name": "stderr",
     "output_type": "stream",
     "text": [
      "\u001b[33m * Tip: There are .env or .flaskenv files present. Do \"pip install python-dotenv\" to use them.\u001b[0m\n"
     ]
    },
    {
     "name": "stdout",
     "output_type": "stream",
     "text": [
      " * Serving Flask app '__main__'\n",
      " * Debug mode: off\n"
     ]
    },
    {
     "name": "stderr",
     "output_type": "stream",
     "text": [
      "WARNING: This is a development server. Do not use it in a production deployment. Use a production WSGI server instead.\n",
      " * Running on all addresses (0.0.0.0)\n",
      " * Running on http://127.0.0.1:8000\n",
      " * Running on http://172.16.5.4:8000\n",
      "INFO:werkzeug:\u001b[31m\u001b[1mWARNING: This is a development server. Do not use it in a production deployment. Use a production WSGI server instead.\u001b[0m\n",
      " * Running on all addresses (0.0.0.0)\n",
      " * Running on http://127.0.0.1:8000\n",
      " * Running on http://172.16.5.4:8000\n",
      "Press CTRL+C to quit\n",
      "INFO:werkzeug:\u001b[33mPress CTRL+C to quit\u001b[0m\n"
     ]
    },
    {
     "name": "stdout",
     "output_type": "stream",
     "text": [
      ".\n"
     ]
    },
    {
     "name": "stderr",
     "output_type": "stream",
     "text": [
      "127.0.0.1 - - [04/May/2023 20:54:24] \"GET /predict?vol_moving_avg=2.22&adj_close_rolling_med=0.23 HTTP/1.1\" 200 -\n",
      "INFO:werkzeug:127.0.0.1 - - [04/May/2023 20:54:24] \"GET /predict?vol_moving_avg=2.22&adj_close_rolling_med=0.23 HTTP/1.1\" 200 -\n"
     ]
    },
    {
     "name": "stdout",
     "output_type": "stream",
     "text": [
      ".\n"
     ]
    },
    {
     "name": "stderr",
     "output_type": "stream",
     "text": [
      "127.0.0.1 - - [04/May/2023 20:54:25] \"GET /predict?vol_moving_avg=3.89&adj_close_rolling_med=0.23 HTTP/1.1\" 200 -\n",
      "INFO:werkzeug:127.0.0.1 - - [04/May/2023 20:54:25] \"GET /predict?vol_moving_avg=3.89&adj_close_rolling_med=0.23 HTTP/1.1\" 200 -\n"
     ]
    },
    {
     "name": "stdout",
     "output_type": "stream",
     "text": [
      ".\n"
     ]
    },
    {
     "name": "stderr",
     "output_type": "stream",
     "text": [
      "127.0.0.1 - - [04/May/2023 20:54:25] \"GET /predict?vol_moving_avg=1.98&adj_close_rolling_med=0.09 HTTP/1.1\" 200 -\n",
      "INFO:werkzeug:127.0.0.1 - - [04/May/2023 20:54:25] \"GET /predict?vol_moving_avg=1.98&adj_close_rolling_med=0.09 HTTP/1.1\" 200 -\n"
     ]
    },
    {
     "name": "stdout",
     "output_type": "stream",
     "text": [
      ".\n"
     ]
    },
    {
     "name": "stderr",
     "output_type": "stream",
     "text": [
      "127.0.0.1 - - [04/May/2023 20:54:53] \"GET /predict?vol_moving_avg=2.22&adj_close_rolling_med=0.23 HTTP/1.1\" 200 -\n",
      "INFO:werkzeug:127.0.0.1 - - [04/May/2023 20:54:53] \"GET /predict?vol_moving_avg=2.22&adj_close_rolling_med=0.23 HTTP/1.1\" 200 -\n"
     ]
    },
    {
     "name": "stdout",
     "output_type": "stream",
     "text": [
      ".\n"
     ]
    },
    {
     "name": "stderr",
     "output_type": "stream",
     "text": [
      "127.0.0.1 - - [04/May/2023 20:54:54] \"GET /predict?vol_moving_avg=3.89&adj_close_rolling_med=0.23 HTTP/1.1\" 200 -\n",
      "INFO:werkzeug:127.0.0.1 - - [04/May/2023 20:54:54] \"GET /predict?vol_moving_avg=3.89&adj_close_rolling_med=0.23 HTTP/1.1\" 200 -\n"
     ]
    },
    {
     "name": "stdout",
     "output_type": "stream",
     "text": [
      ".\n"
     ]
    },
    {
     "name": "stderr",
     "output_type": "stream",
     "text": [
      "127.0.0.1 - - [04/May/2023 20:54:54] \"GET /predict?vol_moving_avg=1.98&adj_close_rolling_med=0.09 HTTP/1.1\" 200 -\n",
      "INFO:werkzeug:127.0.0.1 - - [04/May/2023 20:54:54] \"GET /predict?vol_moving_avg=1.98&adj_close_rolling_med=0.09 HTTP/1.1\" 200 -\n"
     ]
    },
    {
     "name": "stdout",
     "output_type": "stream",
     "text": [
      ".\n"
     ]
    },
    {
     "name": "stderr",
     "output_type": "stream",
     "text": [
      "127.0.0.1 - - [04/May/2023 20:55:09] \"GET /predict?vol_moving_avg=2.22&adj_close_rolling_med=0.23 HTTP/1.1\" 200 -\n",
      "INFO:werkzeug:127.0.0.1 - - [04/May/2023 20:55:09] \"GET /predict?vol_moving_avg=2.22&adj_close_rolling_med=0.23 HTTP/1.1\" 200 -\n"
     ]
    },
    {
     "name": "stdout",
     "output_type": "stream",
     "text": [
      ".\n"
     ]
    },
    {
     "name": "stderr",
     "output_type": "stream",
     "text": [
      "127.0.0.1 - - [04/May/2023 20:55:10] \"GET /predict?vol_moving_avg=3.89&adj_close_rolling_med=0.23 HTTP/1.1\" 200 -\n",
      "INFO:werkzeug:127.0.0.1 - - [04/May/2023 20:55:10] \"GET /predict?vol_moving_avg=3.89&adj_close_rolling_med=0.23 HTTP/1.1\" 200 -\n"
     ]
    },
    {
     "name": "stdout",
     "output_type": "stream",
     "text": [
      ".\n"
     ]
    },
    {
     "name": "stderr",
     "output_type": "stream",
     "text": [
      "127.0.0.1 - - [04/May/2023 20:55:10] \"GET /predict?vol_moving_avg=1.9&adj_close_rolling_med=9 HTTP/1.1\" 200 -\n",
      "INFO:werkzeug:127.0.0.1 - - [04/May/2023 20:55:10] \"GET /predict?vol_moving_avg=1.9&adj_close_rolling_med=9 HTTP/1.1\" 200 -\n"
     ]
    },
    {
     "name": "stdout",
     "output_type": "stream",
     "text": [
      ".\n"
     ]
    },
    {
     "name": "stderr",
     "output_type": "stream",
     "text": [
      "127.0.0.1 - - [04/May/2023 20:55:27] \"GET /predict?vol_moving_avg=2.22&adj_close_rolling_med=0.23 HTTP/1.1\" 200 -\n",
      "INFO:werkzeug:127.0.0.1 - - [04/May/2023 20:55:27] \"GET /predict?vol_moving_avg=2.22&adj_close_rolling_med=0.23 HTTP/1.1\" 200 -\n"
     ]
    },
    {
     "name": "stdout",
     "output_type": "stream",
     "text": [
      ".\n"
     ]
    },
    {
     "name": "stderr",
     "output_type": "stream",
     "text": [
      "127.0.0.1 - - [04/May/2023 20:55:27] \"GET /predict?vol_moving_avg=3.89&adj_close_rolling_med=2 HTTP/1.1\" 200 -\n",
      "INFO:werkzeug:127.0.0.1 - - [04/May/2023 20:55:27] \"GET /predict?vol_moving_avg=3.89&adj_close_rolling_med=2 HTTP/1.1\" 200 -\n"
     ]
    },
    {
     "name": "stdout",
     "output_type": "stream",
     "text": [
      ".\n"
     ]
    },
    {
     "name": "stderr",
     "output_type": "stream",
     "text": [
      "127.0.0.1 - - [04/May/2023 20:55:28] \"GET /predict?vol_moving_avg=1.9&adj_close_rolling_med=9 HTTP/1.1\" 200 -\n",
      "INFO:werkzeug:127.0.0.1 - - [04/May/2023 20:55:28] \"GET /predict?vol_moving_avg=1.9&adj_close_rolling_med=9 HTTP/1.1\" 200 -\n"
     ]
    }
   ],
   "source": [
    "app.run(host=\"0.0.0.0\",port=8000)"
   ]
  }
 ],
 "metadata": {
  "kernelspec": {
   "display_name": "Python 3 (ipykernel)",
   "language": "python",
   "name": "python3"
  },
  "language_info": {
   "codemirror_mode": {
    "name": "ipython",
    "version": 3
   },
   "file_extension": ".py",
   "mimetype": "text/x-python",
   "name": "python",
   "nbconvert_exporter": "python",
   "pygments_lexer": "ipython3",
   "version": "3.10.4"
  }
 },
 "nbformat": 4,
 "nbformat_minor": 5
}
