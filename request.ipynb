{
 "cells": [
  {
   "cell_type": "code",
   "execution_count": 20,
   "metadata": {},
   "outputs": [
    {
     "name": "stdout",
     "output_type": "stream",
     "text": [
      "{\"predictions\":[[212759.15636486915]]}\n",
      "\n",
      "{\"predictions\":[[136002.72205861707]]}\n",
      "\n",
      "{\"predictions\":[[153343.2278263497]]}\n",
      "\n"
     ]
    }
   ],
   "source": [
    "import requests\n",
    "\n",
    "prediction_1 = requests.get('http://127.0.0.1:8000/predict?vol_moving_avg=2.22&adj_close_rolling_med=0.23')\n",
    "prediction_2 = requests.get('http://127.0.0.1:8000/predict?vol_moving_avg=3.89&adj_close_rolling_med=2')\n",
    "prediction_3 = requests.get('http://127.0.0.1:8000/predict?vol_moving_avg=1.9&adj_close_rolling_med=9')\n",
    "\n",
    "print(prediction_1.text)\n",
    "print(prediction_2.text)\n",
    "print(prediction_3.text)\n"
   ]
  },
  {
   "cell_type": "code",
   "execution_count": null,
   "metadata": {},
   "outputs": [],
   "source": []
  }
 ],
 "metadata": {
  "kernelspec": {
   "display_name": "Python 3",
   "language": "python",
   "name": "python3"
  },
  "language_info": {
   "codemirror_mode": {
    "name": "ipython",
    "version": 3
   },
   "file_extension": ".py",
   "mimetype": "text/x-python",
   "name": "python",
   "nbconvert_exporter": "python",
   "pygments_lexer": "ipython3",
   "version": "3.10.4"
  },
  "orig_nbformat": 4
 },
 "nbformat": 4,
 "nbformat_minor": 2
}
